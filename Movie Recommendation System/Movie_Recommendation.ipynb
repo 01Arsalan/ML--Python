{
 "cells": [
  {
   "cell_type": "code",
   "execution_count": 2,
   "metadata": {},
   "outputs": [
    {
     "data": {
      "text/html": [
       "<div>\n",
       "<style scoped>\n",
       "    .dataframe tbody tr th:only-of-type {\n",
       "        vertical-align: middle;\n",
       "    }\n",
       "\n",
       "    .dataframe tbody tr th {\n",
       "        vertical-align: top;\n",
       "    }\n",
       "\n",
       "    .dataframe thead th {\n",
       "        text-align: right;\n",
       "    }\n",
       "</style>\n",
       "<table border=\"1\" class=\"dataframe\">\n",
       "  <thead>\n",
       "    <tr style=\"text-align: right;\">\n",
       "      <th></th>\n",
       "      <th>index</th>\n",
       "      <th>budget</th>\n",
       "      <th>genres</th>\n",
       "      <th>homepage</th>\n",
       "      <th>id</th>\n",
       "      <th>keywords</th>\n",
       "      <th>original_language</th>\n",
       "      <th>original_title</th>\n",
       "      <th>overview</th>\n",
       "      <th>popularity</th>\n",
       "      <th>...</th>\n",
       "      <th>runtime</th>\n",
       "      <th>spoken_languages</th>\n",
       "      <th>status</th>\n",
       "      <th>tagline</th>\n",
       "      <th>title</th>\n",
       "      <th>vote_average</th>\n",
       "      <th>vote_count</th>\n",
       "      <th>cast</th>\n",
       "      <th>crew</th>\n",
       "      <th>director</th>\n",
       "    </tr>\n",
       "  </thead>\n",
       "  <tbody>\n",
       "    <tr>\n",
       "      <th>0</th>\n",
       "      <td>0</td>\n",
       "      <td>237000000</td>\n",
       "      <td>Action Adventure Fantasy Science Fiction</td>\n",
       "      <td>http://www.avatarmovie.com/</td>\n",
       "      <td>19995</td>\n",
       "      <td>culture clash future space war space colony so...</td>\n",
       "      <td>en</td>\n",
       "      <td>Avatar</td>\n",
       "      <td>In the 22nd century, a paraplegic Marine is di...</td>\n",
       "      <td>150.437577</td>\n",
       "      <td>...</td>\n",
       "      <td>162.0</td>\n",
       "      <td>[{\"iso_639_1\": \"en\", \"name\": \"English\"}, {\"iso...</td>\n",
       "      <td>Released</td>\n",
       "      <td>Enter the World of Pandora.</td>\n",
       "      <td>Avatar</td>\n",
       "      <td>7.2</td>\n",
       "      <td>11800</td>\n",
       "      <td>Sam Worthington Zoe Saldana Sigourney Weaver S...</td>\n",
       "      <td>[{'name': 'Stephen E. Rivkin', 'gender': 0, 'd...</td>\n",
       "      <td>James Cameron</td>\n",
       "    </tr>\n",
       "    <tr>\n",
       "      <th>1</th>\n",
       "      <td>1</td>\n",
       "      <td>300000000</td>\n",
       "      <td>Adventure Fantasy Action</td>\n",
       "      <td>http://disney.go.com/disneypictures/pirates/</td>\n",
       "      <td>285</td>\n",
       "      <td>ocean drug abuse exotic island east india trad...</td>\n",
       "      <td>en</td>\n",
       "      <td>Pirates of the Caribbean: At World's End</td>\n",
       "      <td>Captain Barbossa, long believed to be dead, ha...</td>\n",
       "      <td>139.082615</td>\n",
       "      <td>...</td>\n",
       "      <td>169.0</td>\n",
       "      <td>[{\"iso_639_1\": \"en\", \"name\": \"English\"}]</td>\n",
       "      <td>Released</td>\n",
       "      <td>At the end of the world, the adventure begins.</td>\n",
       "      <td>Pirates of the Caribbean: At World's End</td>\n",
       "      <td>6.9</td>\n",
       "      <td>4500</td>\n",
       "      <td>Johnny Depp Orlando Bloom Keira Knightley Stel...</td>\n",
       "      <td>[{'name': 'Dariusz Wolski', 'gender': 2, 'depa...</td>\n",
       "      <td>Gore Verbinski</td>\n",
       "    </tr>\n",
       "    <tr>\n",
       "      <th>2</th>\n",
       "      <td>2</td>\n",
       "      <td>245000000</td>\n",
       "      <td>Action Adventure Crime</td>\n",
       "      <td>http://www.sonypictures.com/movies/spectre/</td>\n",
       "      <td>206647</td>\n",
       "      <td>spy based on novel secret agent sequel mi6</td>\n",
       "      <td>en</td>\n",
       "      <td>Spectre</td>\n",
       "      <td>A cryptic message from Bond’s past sends him o...</td>\n",
       "      <td>107.376788</td>\n",
       "      <td>...</td>\n",
       "      <td>148.0</td>\n",
       "      <td>[{\"iso_639_1\": \"fr\", \"name\": \"Fran\\u00e7ais\"},...</td>\n",
       "      <td>Released</td>\n",
       "      <td>A Plan No One Escapes</td>\n",
       "      <td>Spectre</td>\n",
       "      <td>6.3</td>\n",
       "      <td>4466</td>\n",
       "      <td>Daniel Craig Christoph Waltz L\\u00e9a Seydoux ...</td>\n",
       "      <td>[{'name': 'Thomas Newman', 'gender': 2, 'depar...</td>\n",
       "      <td>Sam Mendes</td>\n",
       "    </tr>\n",
       "    <tr>\n",
       "      <th>3</th>\n",
       "      <td>3</td>\n",
       "      <td>250000000</td>\n",
       "      <td>Action Crime Drama Thriller</td>\n",
       "      <td>http://www.thedarkknightrises.com/</td>\n",
       "      <td>49026</td>\n",
       "      <td>dc comics crime fighter terrorist secret ident...</td>\n",
       "      <td>en</td>\n",
       "      <td>The Dark Knight Rises</td>\n",
       "      <td>Following the death of District Attorney Harve...</td>\n",
       "      <td>112.312950</td>\n",
       "      <td>...</td>\n",
       "      <td>165.0</td>\n",
       "      <td>[{\"iso_639_1\": \"en\", \"name\": \"English\"}]</td>\n",
       "      <td>Released</td>\n",
       "      <td>The Legend Ends</td>\n",
       "      <td>The Dark Knight Rises</td>\n",
       "      <td>7.6</td>\n",
       "      <td>9106</td>\n",
       "      <td>Christian Bale Michael Caine Gary Oldman Anne ...</td>\n",
       "      <td>[{'name': 'Hans Zimmer', 'gender': 2, 'departm...</td>\n",
       "      <td>Christopher Nolan</td>\n",
       "    </tr>\n",
       "    <tr>\n",
       "      <th>4</th>\n",
       "      <td>4</td>\n",
       "      <td>260000000</td>\n",
       "      <td>Action Adventure Science Fiction</td>\n",
       "      <td>http://movies.disney.com/john-carter</td>\n",
       "      <td>49529</td>\n",
       "      <td>based on novel mars medallion space travel pri...</td>\n",
       "      <td>en</td>\n",
       "      <td>John Carter</td>\n",
       "      <td>John Carter is a war-weary, former military ca...</td>\n",
       "      <td>43.926995</td>\n",
       "      <td>...</td>\n",
       "      <td>132.0</td>\n",
       "      <td>[{\"iso_639_1\": \"en\", \"name\": \"English\"}]</td>\n",
       "      <td>Released</td>\n",
       "      <td>Lost in our world, found in another.</td>\n",
       "      <td>John Carter</td>\n",
       "      <td>6.1</td>\n",
       "      <td>2124</td>\n",
       "      <td>Taylor Kitsch Lynn Collins Samantha Morton Wil...</td>\n",
       "      <td>[{'name': 'Andrew Stanton', 'gender': 2, 'depa...</td>\n",
       "      <td>Andrew Stanton</td>\n",
       "    </tr>\n",
       "  </tbody>\n",
       "</table>\n",
       "<p>5 rows × 24 columns</p>\n",
       "</div>"
      ],
      "text/plain": [
       "   index     budget                                    genres  \\\n",
       "0      0  237000000  Action Adventure Fantasy Science Fiction   \n",
       "1      1  300000000                  Adventure Fantasy Action   \n",
       "2      2  245000000                    Action Adventure Crime   \n",
       "3      3  250000000               Action Crime Drama Thriller   \n",
       "4      4  260000000          Action Adventure Science Fiction   \n",
       "\n",
       "                                       homepage      id  \\\n",
       "0                   http://www.avatarmovie.com/   19995   \n",
       "1  http://disney.go.com/disneypictures/pirates/     285   \n",
       "2   http://www.sonypictures.com/movies/spectre/  206647   \n",
       "3            http://www.thedarkknightrises.com/   49026   \n",
       "4          http://movies.disney.com/john-carter   49529   \n",
       "\n",
       "                                            keywords original_language  \\\n",
       "0  culture clash future space war space colony so...                en   \n",
       "1  ocean drug abuse exotic island east india trad...                en   \n",
       "2         spy based on novel secret agent sequel mi6                en   \n",
       "3  dc comics crime fighter terrorist secret ident...                en   \n",
       "4  based on novel mars medallion space travel pri...                en   \n",
       "\n",
       "                             original_title  \\\n",
       "0                                    Avatar   \n",
       "1  Pirates of the Caribbean: At World's End   \n",
       "2                                   Spectre   \n",
       "3                     The Dark Knight Rises   \n",
       "4                               John Carter   \n",
       "\n",
       "                                            overview  popularity  ... runtime  \\\n",
       "0  In the 22nd century, a paraplegic Marine is di...  150.437577  ...   162.0   \n",
       "1  Captain Barbossa, long believed to be dead, ha...  139.082615  ...   169.0   \n",
       "2  A cryptic message from Bond’s past sends him o...  107.376788  ...   148.0   \n",
       "3  Following the death of District Attorney Harve...  112.312950  ...   165.0   \n",
       "4  John Carter is a war-weary, former military ca...   43.926995  ...   132.0   \n",
       "\n",
       "                                    spoken_languages    status  \\\n",
       "0  [{\"iso_639_1\": \"en\", \"name\": \"English\"}, {\"iso...  Released   \n",
       "1           [{\"iso_639_1\": \"en\", \"name\": \"English\"}]  Released   \n",
       "2  [{\"iso_639_1\": \"fr\", \"name\": \"Fran\\u00e7ais\"},...  Released   \n",
       "3           [{\"iso_639_1\": \"en\", \"name\": \"English\"}]  Released   \n",
       "4           [{\"iso_639_1\": \"en\", \"name\": \"English\"}]  Released   \n",
       "\n",
       "                                          tagline  \\\n",
       "0                     Enter the World of Pandora.   \n",
       "1  At the end of the world, the adventure begins.   \n",
       "2                           A Plan No One Escapes   \n",
       "3                                 The Legend Ends   \n",
       "4            Lost in our world, found in another.   \n",
       "\n",
       "                                      title vote_average vote_count  \\\n",
       "0                                    Avatar          7.2      11800   \n",
       "1  Pirates of the Caribbean: At World's End          6.9       4500   \n",
       "2                                   Spectre          6.3       4466   \n",
       "3                     The Dark Knight Rises          7.6       9106   \n",
       "4                               John Carter          6.1       2124   \n",
       "\n",
       "                                                cast  \\\n",
       "0  Sam Worthington Zoe Saldana Sigourney Weaver S...   \n",
       "1  Johnny Depp Orlando Bloom Keira Knightley Stel...   \n",
       "2  Daniel Craig Christoph Waltz L\\u00e9a Seydoux ...   \n",
       "3  Christian Bale Michael Caine Gary Oldman Anne ...   \n",
       "4  Taylor Kitsch Lynn Collins Samantha Morton Wil...   \n",
       "\n",
       "                                                crew           director  \n",
       "0  [{'name': 'Stephen E. Rivkin', 'gender': 0, 'd...      James Cameron  \n",
       "1  [{'name': 'Dariusz Wolski', 'gender': 2, 'depa...     Gore Verbinski  \n",
       "2  [{'name': 'Thomas Newman', 'gender': 2, 'depar...         Sam Mendes  \n",
       "3  [{'name': 'Hans Zimmer', 'gender': 2, 'departm...  Christopher Nolan  \n",
       "4  [{'name': 'Andrew Stanton', 'gender': 2, 'depa...     Andrew Stanton  \n",
       "\n",
       "[5 rows x 24 columns]"
      ]
     },
     "execution_count": 2,
     "metadata": {},
     "output_type": "execute_result"
    }
   ],
   "source": [
    "# importing / creating -- DataSet\n",
    "\n",
    "import pandas as pd\n",
    "\n",
    "data_frame=pd.read_csv('/Users/arsh/Documents/code/Programs/AI/Project/movies.csv')\n",
    "data_frame.head()"
   ]
  },
  {
   "cell_type": "code",
   "execution_count": 3,
   "metadata": {},
   "outputs": [
    {
     "data": {
      "text/plain": [
       "Index(['index', 'budget', 'genres', 'homepage', 'id', 'keywords',\n",
       "       'original_language', 'original_title', 'overview', 'popularity',\n",
       "       'production_companies', 'production_countries', 'release_date',\n",
       "       'revenue', 'runtime', 'spoken_languages', 'status', 'tagline', 'title',\n",
       "       'vote_average', 'vote_count', 'cast', 'crew', 'director'],\n",
       "      dtype='object')"
      ]
     },
     "execution_count": 3,
     "metadata": {},
     "output_type": "execute_result"
    }
   ],
   "source": [
    "data_frame.columns"
   ]
  },
  {
   "cell_type": "code",
   "execution_count": 4,
   "metadata": {},
   "outputs": [
    {
     "data": {
      "text/plain": [
       "['genres',\n",
       " 'keywords',\n",
       " 'original_language',\n",
       " 'original_title',\n",
       " 'overview',\n",
       " 'spoken_languages',\n",
       " 'tagline',\n",
       " 'title',\n",
       " 'cast',\n",
       " 'crew',\n",
       " 'director']"
      ]
     },
     "execution_count": 4,
     "metadata": {},
     "output_type": "execute_result"
    }
   ],
   "source": [
    "#Feature Extraction\n",
    "\n",
    "selected_features=['genres','keywords','original_language', 'original_title', 'overview','spoken_languages','tagline', 'title',\n",
    "        'cast', 'crew', 'director']\n",
    "selected_features"
   ]
  },
  {
   "cell_type": "code",
   "execution_count": 5,
   "metadata": {},
   "outputs": [],
   "source": [
    "#Replacing Null values with Null String\n",
    "\n",
    "for feature in selected_features:\n",
    "    data_frame[feature]=data_frame[feature].fillna('')"
   ]
  },
  {
   "cell_type": "code",
   "execution_count": 6,
   "metadata": {},
   "outputs": [
    {
     "data": {
      "text/plain": [
       "0       [{\"iso_639_1\": \"en\", \"name\": \"English\"}, {\"iso...\n",
       "1       [{\"iso_639_1\": \"en\", \"name\": \"English\"}]At the...\n",
       "2       [{\"iso_639_1\": \"fr\", \"name\": \"Fran\\u00e7ais\"},...\n",
       "3       [{\"iso_639_1\": \"en\", \"name\": \"English\"}]The Le...\n",
       "4       [{\"iso_639_1\": \"en\", \"name\": \"English\"}]Lost i...\n",
       "                              ...                        \n",
       "4798    [{\"iso_639_1\": \"es\", \"name\": \"Espa\\u00f1ol\"}]H...\n",
       "4799    []A newlywed couple's honeymoon is upended by ...\n",
       "4800    [{\"iso_639_1\": \"en\", \"name\": \"English\"}]Signed...\n",
       "4801    [{\"iso_639_1\": \"en\", \"name\": \"English\"}]A New ...\n",
       "4802    [{\"iso_639_1\": \"en\", \"name\": \"English\"}]My Dat...\n",
       "Length: 4803, dtype: object"
      ]
     },
     "execution_count": 6,
     "metadata": {},
     "output_type": "execute_result"
    }
   ],
   "source": [
    "movies_data=data_frame['genres']+data_frame['keywords']+data_frame['original_language']+data_frame['original_title']+data_frame['overview']\n",
    "+data_frame['spoken_languages']+data_frame['tagline']+data_frame['title']+data_frame['cast']+data_frame['crew']+data_frame['director']"
   ]
  },
  {
   "cell_type": "code",
   "execution_count": 7,
   "metadata": {},
   "outputs": [
    {
     "name": "stdout",
     "output_type": "stream",
     "text": [
      "  (0, 5215)\t0.2051644314158453\n",
      "  (0, 1341)\t0.15105133170690616\n",
      "  (0, 1547)\t0.06712469970283616\n",
      "  (0, 22830)\t0.2051644314158453\n",
      "  (0, 1576)\t0.03857599930460671\n",
      "  (0, 20942)\t0.1960020876059639\n",
      "  (0, 12104)\t0.17442630161528844\n",
      "  (0, 3126)\t0.12363060466329417\n",
      "  (0, 29532)\t0.18436798608760113\n",
      "  (0, 2894)\t0.11808974571334145\n",
      "  (0, 4157)\t0.07579908108320005\n",
      "  (0, 19150)\t0.1344128771328092\n",
      "  (0, 30363)\t0.18659144228060895\n",
      "  (0, 20813)\t0.06062840669324419\n",
      "  (0, 21312)\t0.22596087674408952\n",
      "  (0, 19369)\t0.19933918238834536\n",
      "  (0, 29425)\t0.03799164180473955\n",
      "  (0, 8431)\t0.22195454391290514\n",
      "  (0, 15927)\t0.05380545796251751\n",
      "  (0, 18326)\t0.17442630161528844\n",
      "  (0, 21368)\t0.2427509892411493\n",
      "  (0, 4749)\t0.15249753592337884\n",
      "  (0, 254)\t0.23605602921619848\n",
      "  (0, 28712)\t0.0686715858227227\n",
      "  (0, 26732)\t0.26354743456939356\n",
      "  :\t:\n",
      "  (4802, 28751)\t0.08246229345933206\n",
      "  (4802, 20545)\t0.07684545927090908\n",
      "  (4802, 13600)\t0.09829100025246529\n",
      "  (4802, 31535)\t0.0930960342446175\n",
      "  (4802, 20775)\t0.06913604066195385\n",
      "  (4802, 32200)\t0.0721873206267551\n",
      "  (4802, 26025)\t0.05992767339081516\n",
      "  (4802, 14077)\t0.09682077379301086\n",
      "  (4802, 13907)\t0.13018586555767173\n",
      "  (4802, 31653)\t0.04792056526204427\n",
      "  (4802, 14243)\t0.03504679470696939\n",
      "  (4802, 15310)\t0.02954530356047635\n",
      "  (4802, 20276)\t0.055918425403562066\n",
      "  (4802, 17087)\t0.09447130696802958\n",
      "  (4802, 32210)\t0.07025282090494916\n",
      "  (4802, 4182)\t0.04561167272401318\n",
      "  (4802, 12140)\t0.041511305509033175\n",
      "  (4802, 12492)\t0.04622469848622774\n",
      "  (4802, 31881)\t0.03665804726678976\n",
      "  (4802, 13821)\t0.053375256442371\n",
      "  (4802, 20815)\t0.057038472945748805\n",
      "  (4802, 1576)\t0.024618539839361252\n",
      "  (4802, 20813)\t0.03869200727086247\n",
      "  (4802, 29425)\t0.04849122584990459\n",
      "  (4802, 28712)\t0.043825025971703735\n"
     ]
    }
   ],
   "source": [
    "#Converting movies_data test to numerical values for cosine similarity\n",
    "\n",
    "from sklearn.feature_extraction.text import TfidfVectorizer \n",
    "\n",
    "vectorizer=TfidfVectorizer()\n",
    "\n",
    "feature_vectors=vectorizer.fit_transform(movies_data)\n",
    "print(feature_vectors)"
   ]
  },
  {
   "cell_type": "code",
   "execution_count": 8,
   "metadata": {},
   "outputs": [
    {
     "name": "stdout",
     "output_type": "stream",
     "text": [
      "[[1.         0.04278545 0.02840024 ... 0.02157114 0.01330362 0.00814731]\n",
      " [0.04278545 1.         0.04001237 ... 0.05529247 0.0282687  0.02191757]\n",
      " [0.02840024 0.04001237 1.         ... 0.03234144 0.0165982  0.0161372 ]\n",
      " ...\n",
      " [0.02157114 0.05529247 0.03234144 ... 1.         0.04434929 0.02376082]\n",
      " [0.01330362 0.0282687  0.0165982  ... 0.04434929 1.         0.03992023]\n",
      " [0.00814731 0.02191757 0.0161372  ... 0.02376082 0.03992023 1.        ]]\n",
      "\n",
      "\n",
      " (4803, 4803)\n"
     ]
    }
   ],
   "source": [
    "# checking the Similarity using cosine score\n",
    "\n",
    "from sklearn.metrics.pairwise import cosine_similarity\n",
    "\n",
    "Similarity=cosine_similarity(feature_vectors)\n",
    "\n",
    "print(Similarity)\n",
    "print(\"\\n\\n\",Similarity.shape)"
   ]
  },
  {
   "cell_type": "code",
   "execution_count": 9,
   "metadata": {},
   "outputs": [
    {
     "data": {
      "text/plain": [
       "'spider man'"
      ]
     },
     "execution_count": 9,
     "metadata": {},
     "output_type": "execute_result"
    }
   ],
   "source": [
    "# Taking input(Movie-Name) from user\n",
    "\n",
    "\n",
    "movie_name=input(\"Enter Movie Name : \")\n",
    "movie_name\n"
   ]
  },
  {
   "cell_type": "code",
   "execution_count": 10,
   "metadata": {},
   "outputs": [
    {
     "data": {
      "text/plain": [
       "['Avatar',\n",
       " \"Pirates of the Caribbean: At World's End\",\n",
       " 'Spectre',\n",
       " 'The Dark Knight Rises',\n",
       " 'John Carter']"
      ]
     },
     "execution_count": 10,
     "metadata": {},
     "output_type": "execute_result"
    }
   ],
   "source": [
    "# ceating a list with all the movie titles to compare with user data\n",
    "\n",
    "titles=data_frame['title'].tolist()\n",
    "titles[0:5]\n"
   ]
  },
  {
   "cell_type": "code",
   "execution_count": 11,
   "metadata": {},
   "outputs": [
    {
     "name": "stderr",
     "output_type": "stream",
     "text": [
      "/Library/Frameworks/Python.framework/Versions/3.11/lib/python3.11/site-packages/fuzzywuzzy/fuzz.py:11: UserWarning: Using slow pure-python SequenceMatcher. Install python-Levenshtein to remove this warning\n",
      "  warnings.warn('Using slow pure-python SequenceMatcher. Install python-Levenshtein to remove this warning')\n"
     ]
    },
    {
     "name": "stdout",
     "output_type": "stream",
     "text": [
      "Spider-Man\n"
     ]
    }
   ],
   "source": [
    "#Finding close match in titles\n",
    "\n",
    "from fuzzywuzzy import process\n",
    "\n",
    "# process.extract(movie_name, titles)#  returns a tuple  with similarity score\n",
    "\n",
    "close_matches = [match[0] for match in process.extract(movie_name, titles)]\n",
    "\n",
    "close_match= close_matches[0]\n",
    "\n",
    "print(close_match)\n"
   ]
  },
  {
   "cell_type": "code",
   "execution_count": 12,
   "metadata": {},
   "outputs": [
    {
     "data": {
      "text/plain": [
       "159"
      ]
     },
     "execution_count": 12,
     "metadata": {},
     "output_type": "execute_result"
    }
   ],
   "source": [
    "#finding the index of movie in data-frame\n",
    "\n",
    "index=data_frame[data_frame.title==close_match]['index'].values[0]\n",
    "index"
   ]
  },
  {
   "cell_type": "code",
   "execution_count": 13,
   "metadata": {},
   "outputs": [
    {
     "data": {
      "text/plain": [
       "[(0, 0.01568281257931294),\n",
       " (1, 0.024539204769613996),\n",
       " (2, 0.0013373802411915437),\n",
       " (3, 0.005786076660360535),\n",
       " (4, 0.005454664763397699)]"
      ]
     },
     "execution_count": 13,
     "metadata": {},
     "output_type": "execute_result"
    }
   ],
   "source": [
    "#getting a list of similarity score of all movies\n",
    "\n",
    "Similarity_score=list(enumerate(Similarity[index]))\n",
    "Similarity_score[0:5]"
   ]
  },
  {
   "cell_type": "code",
   "execution_count": 14,
   "metadata": {},
   "outputs": [
    {
     "data": {
      "text/plain": [
       "[(159, 1.0),\n",
       " (1534, 0.2667483339825859),\n",
       " (38, 0.2614427544414511),\n",
       " (5, 0.252428256123289),\n",
       " (20, 0.221736327596756),\n",
       " (30, 0.15335343053295827),\n",
       " (431, 0.15181196813289186),\n",
       " (572, 0.10760910393646686),\n",
       " (953, 0.10336818489084824),\n",
       " (2183, 0.09819096537094166)]"
      ]
     },
     "execution_count": 14,
     "metadata": {},
     "output_type": "execute_result"
    }
   ],
   "source": [
    "highest_similarity=sorted(Similarity_score,key=lambda x:x[1],reverse=True)\n",
    "highest_similarity=highest_similarity[0:10]\n",
    "highest_similarity"
   ]
  },
  {
   "cell_type": "code",
   "execution_count": 15,
   "metadata": {},
   "outputs": [
    {
     "name": "stdout",
     "output_type": "stream",
     "text": [
      "159    Spider-Man\n",
      "Name: title, dtype: object\n",
      "1534    Arachnophobia\n",
      "Name: title, dtype: object\n",
      "38    The Amazing Spider-Man 2\n",
      "Name: title, dtype: object\n",
      "5    Spider-Man 3\n",
      "Name: title, dtype: object\n",
      "20    The Amazing Spider-Man\n",
      "Name: title, dtype: object\n",
      "30    Spider-Man 2\n",
      "Name: title, dtype: object\n",
      "431    Charlotte's Web\n",
      "Name: title, dtype: object\n",
      "572    Hook\n",
      "Name: title, dtype: object\n",
      "953    Gremlins 2: The New Batch\n",
      "Name: title, dtype: object\n",
      "2183    Home for the Holidays\n",
      "Name: title, dtype: object\n"
     ]
    }
   ],
   "source": [
    "for i in highest_similarity:\n",
    "    print(data_frame[data_frame['index']==i[0]]['title'])\n",
    "\n",
    "#OR  [list(data_frame[data_frame['index'] == i[0]]['title']) for i in highest_similarity]\n",
    "\n"
   ]
  },
  {
   "cell_type": "code",
   "execution_count": 17,
   "metadata": {},
   "outputs": [
    {
     "data": {
      "text/plain": [
       "[[\"Pirates of the Caribbean: At World's End\"],\n",
       " ['Pirates of the Caribbean: The Curse of the Black Pearl'],\n",
       " ['Elza'],\n",
       " [\"Pirates of the Caribbean: Dead Man's Chest\"],\n",
       " ['Anna and the King'],\n",
       " [\"What's Love Got to Do with It\"],\n",
       " ['Guiana 1838'],\n",
       " ['Star Trek Into Darkness'],\n",
       " ['The Prince of Egypt'],\n",
       " ['Disturbia']]"
      ]
     },
     "execution_count": 17,
     "metadata": {},
     "output_type": "execute_result"
    }
   ],
   "source": [
    "#-----------------------------------------------------\n",
    "\n",
    "movie_name=input(\"Enter Movie Name : \")\n",
    "\n",
    "close_matches = [match[0] for match in process.extract(movie_name, titles)]\n",
    "close_matche= close_matches[0]\n",
    "\n",
    "index=data_frame[data_frame.title==close_matche]['index'].values[0]\n",
    "\n",
    "Similarity_score=list(enumerate(Similarity[index]))\n",
    "\n",
    "highest_similarity=sorted(Similarity_score,key=lambda x:x[1],reverse=True)\n",
    "highest_similarity=highest_similarity[0:10]\n",
    "\n",
    "[list(data_frame[data_frame['index'] == i[0]]['title']) for i in highest_similarity]"
   ]
  },
  {
   "cell_type": "code",
   "execution_count": null,
   "metadata": {},
   "outputs": [],
   "source": [
    "\n"
   ]
  },
  {
   "cell_type": "code",
   "execution_count": null,
   "metadata": {},
   "outputs": [],
   "source": []
  }
 ],
 "metadata": {
  "kernelspec": {
   "display_name": "Python 3",
   "language": "python",
   "name": "python3"
  },
  "language_info": {
   "codemirror_mode": {
    "name": "ipython",
    "version": 3
   },
   "file_extension": ".py",
   "mimetype": "text/x-python",
   "name": "python",
   "nbconvert_exporter": "python",
   "pygments_lexer": "ipython3",
   "version": "3.11.4"
  },
  "orig_nbformat": 4
 },
 "nbformat": 4,
 "nbformat_minor": 2
}
